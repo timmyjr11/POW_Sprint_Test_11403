{
 "cells": [
  {
   "cell_type": "code",
   "execution_count": 42,
   "metadata": {
    "collapsed": true
   },
   "outputs": [
    {
     "name": "stdout",
     "output_type": "stream",
     "text": [
      "[7]\n"
     ]
    }
   ],
   "source": [
    "## Question 1\n",
    "\n",
    "# Used sympy to solve the first question\n",
    "from sympy import *\n",
    "\n",
    "x = symbols('x')\n",
    "\n",
    "eq = Eq((x*x) + -14*x + 49, 0)\n",
    "\n",
    "print(solve(eq, x))"
   ]
  },
  {
   "cell_type": "code",
   "execution_count": 43,
   "outputs": [
    {
     "name": "stdout",
     "output_type": "stream",
     "text": [
      "300.0\n"
     ]
    }
   ],
   "source": [
    "## Question 2\n",
    "\n",
    "# Square rooted every answer until I found an integer\n",
    "import math\n",
    "\n",
    "print(math.sqrt(90000))"
   ],
   "metadata": {
    "collapsed": false,
    "pycharm": {
     "name": "#%%\n"
    }
   }
  },
  {
   "cell_type": "code",
   "execution_count": 99,
   "outputs": [
    {
     "name": "stdout",
     "output_type": "stream",
     "text": [
      "108\n",
      "55\n"
     ]
    }
   ],
   "source": [
    "## Question 3\n",
    "\n",
    "# It takes 7 packages of 14 eggs and 2 packages of 5 eggs to meet the requirements\n",
    "# Then multiplied the packages by price\n",
    "print(14*7 + 5*2)\n",
    "print(7 * 7 + 2 * 3)"
   ],
   "metadata": {
    "collapsed": false,
    "pycharm": {
     "name": "#%%\n"
    }
   }
  },
  {
   "cell_type": "code",
   "execution_count": 45,
   "outputs": [
    {
     "name": "stdout",
     "output_type": "stream",
     "text": [
      "27\n"
     ]
    }
   ],
   "source": [
    "## Question 4\n",
    "\n",
    "# Used sympy to solve the question\n",
    "from sympy import *\n",
    "\n",
    "\n",
    "x = 999999999\n",
    "\n",
    "y = symbols('y')\n",
    "\n",
    "eq = Eq(math.log((x**3) + (3*x**2) + (3*x) + 1), y)\n",
    "\n",
    "y = 27\n",
    "\n",
    "print(y)"
   ],
   "metadata": {
    "collapsed": false,
    "pycharm": {
     "name": "#%%\n"
    }
   }
  },
  {
   "cell_type": "code",
   "execution_count": 46,
   "outputs": [
    {
     "name": "stdout",
     "output_type": "stream",
     "text": [
      "30\n"
     ]
    }
   ],
   "source": [
    "## Question 5\n",
    "\n",
    "# Used sympy to build a quadrilateral and calculate the area\n",
    "from sympy import *\n",
    "\n",
    "print(Polygon((0, -5), (3, 0), (0,5), (-3,0)).area)"
   ],
   "metadata": {
    "collapsed": false,
    "pycharm": {
     "name": "#%%\n"
    }
   }
  },
  {
   "cell_type": "code",
   "execution_count": 49,
   "outputs": [
    {
     "name": "stdout",
     "output_type": "stream",
     "text": [
      "[-3, 9]\n",
      "Other\n"
     ]
    }
   ],
   "source": [
    "## Question 6\n",
    "\n",
    "# Used sympy to find solutions\n",
    "from sympy import *\n",
    "\n",
    "x = symbols('x')\n",
    "\n",
    "eq6 = Eq(2*x**2 - 8*x - 40, x**2 - 2*x -13)\n",
    "\n",
    "print(solve(eq6, x))\n",
    "\n",
    "print(\"Other\")\n",
    "\n"
   ],
   "metadata": {
    "collapsed": false,
    "pycharm": {
     "name": "#%%\n"
    }
   }
  },
  {
   "cell_type": "code",
   "execution_count": 103,
   "outputs": [
    {
     "name": "stdout",
     "output_type": "stream",
     "text": [
      "0.0001809954751131222\n",
      "1/5525\n"
     ]
    }
   ],
   "source": [
    "## Question 7\n",
    "\n",
    "# Calculated the probability of cards and translated it to a fraction\n",
    "print(4/52 * 3/51 * 2/50)\n",
    "print(\"1/5525\")"
   ],
   "metadata": {
    "collapsed": false,
    "pycharm": {
     "name": "#%%\n"
    }
   }
  },
  {
   "cell_type": "code",
   "execution_count": null,
   "outputs": [],
   "source": [
    "## Question 8\n",
    "\n",
    "# Calculated the lateral surface area then added the bottom area,\n",
    "# then multiplying by the price\n",
    "cylinder = 2*math.pi*3*8 + math.pi*pow(3,2)\n",
    "\n",
    "answer = cylinder * 0.5\n",
    "\n",
    "print(answer)\n"
   ],
   "metadata": {
    "collapsed": false,
    "pycharm": {
     "name": "#%%\n"
    }
   }
  },
  {
   "cell_type": "code",
   "execution_count": 13,
   "outputs": [
    {
     "name": "stdout",
     "output_type": "stream",
     "text": [
      "78660\n",
      "other\n"
     ]
    }
   ],
   "source": [
    "## Question 9\n",
    "\n",
    "# Created a arithmetic series calculator\n",
    "def arithmetic_series(a,d,n) :\n",
    "    sum = 0\n",
    "    i = 0\n",
    "    while i < n :\n",
    "        sum = sum + a\n",
    "        a = a + d\n",
    "        i = i + 1\n",
    "    return sum\n",
    "\n",
    "term = 120\n",
    "start = 1\n",
    "diff = 11\n",
    "print(arithmetic_series(start, diff, term))\n",
    "print(\"other\")"
   ],
   "metadata": {
    "collapsed": false,
    "pycharm": {
     "name": "#%%\n"
    }
   }
  },
  {
   "cell_type": "code",
   "execution_count": 5,
   "outputs": [
    {
     "name": "stdout",
     "output_type": "stream",
     "text": [
      "1/36\n"
     ]
    }
   ],
   "source": [
    "## Question 10\n",
    "\n",
    "# Calculated the probability using sympy die and sympy.stats\n",
    "from sympy.stats import P, Die\n",
    "from sympy import Eq\n",
    "x, y, z = Die('x', 6), Die('y', 6), Die('z', 6)\n",
    "\n",
    "print(P(Eq(x + y + z, 5)))"
   ],
   "metadata": {
    "collapsed": false,
    "pycharm": {
     "name": "#%%\n"
    }
   }
  },
  {
   "cell_type": "code",
   "execution_count": 107,
   "outputs": [
    {
     "name": "stdout",
     "output_type": "stream",
     "text": [
      "15.811388300841896\n",
      "Other\n"
     ]
    }
   ],
   "source": [
    "## Question 11\n",
    "\n",
    "# Would not work because of pythagorean triples\n",
    "\n",
    "l = 9\n",
    "w = 5\n",
    "h = 12\n",
    "\n",
    "print(math.sqrt(pow(l, 2) + pow(w, 2) + pow(h, 2)))\n",
    "print(\"Other\")\n"
   ],
   "metadata": {
    "collapsed": false,
    "pycharm": {
     "name": "#%%\n"
    }
   }
  },
  {
   "cell_type": "code",
   "execution_count": 13,
   "outputs": [
    {
     "name": "stdout",
     "output_type": "stream",
     "text": [
      "0.0001024\n",
      "other\n"
     ]
    }
   ],
   "source": [
    "## Question 12\n",
    "\n",
    "#Needs to be worked on\n",
    "\n",
    "\n",
    "\n",
    "\n",
    "\n",
    "total = pow(10, 7)\n",
    "need = pow(4,5)\n",
    "\n",
    "answer = need / total\n",
    "print(answer)\n",
    "\n",
    "print(\"other\")"
   ],
   "metadata": {
    "collapsed": false,
    "pycharm": {
     "name": "#%%\n"
    }
   }
  },
  {
   "cell_type": "code",
   "execution_count": 23,
   "outputs": [
    {
     "name": "stdout",
     "output_type": "stream",
     "text": [
      "480\n",
      "16\n",
      "80\n"
     ]
    }
   ],
   "source": [
    "## Question 13\n",
    "\n",
    "# Used sympy to find the least common multiple and greatest common denominator\n",
    "from sympy import *\n",
    "\n",
    "print(lcm(96, 40))\n",
    "\n",
    "print(gcd(96, 80))\n",
    "\n",
    "print(80)"
   ],
   "metadata": {
    "collapsed": false,
    "pycharm": {
     "name": "#%%\n"
    }
   }
  },
  {
   "cell_type": "code",
   "execution_count": 44,
   "outputs": [
    {
     "name": "stdout",
     "output_type": "stream",
     "text": [
      "3.5\n",
      "3.5\n"
     ]
    }
   ],
   "source": [
    "## Question 14\n",
    "\n",
    "# Converted the exponents into logarithms then solved and multiplied\n",
    "import math\n",
    "\n",
    "a = math.log(8,9)\n",
    "b = math.log(39, 8)\n",
    "c = math.log(2187, 39)\n",
    "print(a*b*c)\n",
    "print(7/2)"
   ],
   "metadata": {
    "collapsed": false,
    "pycharm": {
     "name": "#%%\n"
    }
   }
  },
  {
   "cell_type": "code",
   "execution_count": 67,
   "outputs": [
    {
     "name": "stdout",
     "output_type": "stream",
     "text": [
      "27.712812921102035\n",
      "19.31370849898476\n",
      "3.313708498984761\n",
      "30.627416997969522\n",
      "38.62741699796952\n",
      "Other\n"
     ]
    }
   ],
   "source": [
    "# Question 15\n",
    "\n",
    "# Needs to be worked on\n",
    "\n",
    "\n",
    "\n",
    "\n",
    "import math\n",
    "\n",
    "area_of_triangle = (math.sqrt(3)/4) * pow(8,2)\n",
    "possible_area1 = (8*math.sqrt(2)) + 8\n",
    "possible_area2 = (8*math.sqrt(2)) - 8\n",
    "possible_area3 = (16*math.sqrt(2)) + 8\n",
    "possible_area4 = (16*math.sqrt(2)) + 16\n",
    "\n",
    "print(area_of_triangle)\n",
    "print(possible_area1)\n",
    "print(possible_area2)\n",
    "print(possible_area3)\n",
    "print(possible_area4)\n",
    "print(\"Other\")"
   ],
   "metadata": {
    "collapsed": false,
    "pycharm": {
     "name": "#%%\n"
    }
   }
  },
  {
   "cell_type": "code",
   "execution_count": 38,
   "outputs": [
    {
     "name": "stdout",
     "output_type": "stream",
     "text": [
      "39\n"
     ]
    }
   ],
   "source": [
    "## Question 16\n",
    "\n",
    "# Made the 47 a pair and then subtracted 180, then subtracting that from 47\n",
    "missing_Angle = 180 - (47 * 2)\n",
    "\n",
    "differance = missing_Angle - 47\n",
    "\n",
    "print(differance)"
   ],
   "metadata": {
    "collapsed": false,
    "pycharm": {
     "name": "#%%\n"
    }
   }
  },
  {
   "cell_type": "code",
   "execution_count": 77,
   "outputs": [
    {
     "name": "stdout",
     "output_type": "stream",
     "text": [
      "0.2857142857142857\n"
     ]
    }
   ],
   "source": [
    "# Question 17\n",
    "\n",
    "# Picking a random edge then you have a 2/7 chance because there are two edges next to the\n",
    "# First selected edge\n",
    "chance =  (1/1) * (2/7)\n",
    "\n",
    "print (chance)"
   ],
   "metadata": {
    "collapsed": false,
    "pycharm": {
     "name": "#%%\n"
    }
   }
  },
  {
   "cell_type": "code",
   "execution_count": 82,
   "outputs": [
    {
     "data": {
      "text/plain": "[-1, 2]"
     },
     "execution_count": 82,
     "metadata": {},
     "output_type": "execute_result"
    }
   ],
   "source": [
    "## Question 18\n",
    "\n",
    "# Used sympy to solve\n",
    "x = symbols('x')\n",
    "\n",
    "eq = Eq(4 * (x - 1) ** (x+1), 4)\n",
    "\n",
    "solve(eq, x)\n"
   ],
   "metadata": {
    "collapsed": false,
    "pycharm": {
     "name": "#%%\n"
    }
   }
  },
  {
   "cell_type": "code",
   "execution_count": 84,
   "outputs": [
    {
     "name": "stdout",
     "output_type": "stream",
     "text": [
      "[-6, 6]\n",
      "12\n"
     ]
    }
   ],
   "source": [
    "## Question 19\n",
    "\n",
    "# Used sympy to solve then subtracted the two results\n",
    "x = symbols('x')\n",
    "\n",
    "eq = Eq(2 * x**2 * y - 72 * y, 0)\n",
    "\n",
    "print(solve(eq, x))\n",
    "\n",
    "print(6 - -6)"
   ],
   "metadata": {
    "collapsed": false,
    "pycharm": {
     "name": "#%%\n"
    }
   }
  },
  {
   "cell_type": "code",
   "execution_count": 20,
   "outputs": [
    {
     "name": "stdout",
     "output_type": "stream",
     "text": [
      "41.569219381653056\n"
     ]
    }
   ],
   "source": [
    "## Question 20\n",
    "\n",
    "# Calculated the area of the hexagon inside the circle\n",
    "import math\n",
    "\n",
    "answer =  0.5 * 6 * pow(4,2) * math.sin((2 * math.pi) / 6)\n",
    "\n",
    "print(answer)"
   ],
   "metadata": {
    "collapsed": false,
    "pycharm": {
     "name": "#%%\n"
    }
   }
  },
  {
   "cell_type": "code",
   "execution_count": 331,
   "outputs": [
    {
     "name": "stdout",
     "output_type": "stream",
     "text": [
      "0\n",
      "12\n"
     ]
    }
   ],
   "source": [
    "## Question 21\n",
    "\n",
    "# Subtracted two and found that x being 12 is a multiple of 13 using mod, but the remainder is larger\n",
    "# Than the given answers\n",
    "x = 12\n",
    "\n",
    "pt1 = ((3 * x  + 5) - 2) % 13\n",
    "\n",
    "print(pt1)\n",
    "\n",
    "answer = x % 13\n",
    "\n",
    "print(answer)\n"
   ],
   "metadata": {
    "collapsed": false,
    "pycharm": {
     "name": "#%%\n"
    }
   }
  },
  {
   "cell_type": "code",
   "execution_count": 66,
   "outputs": [
    {
     "name": "stdout",
     "output_type": "stream",
     "text": [
      "0.1111111111111111\n"
     ]
    }
   ],
   "source": [
    "## Question 22\n",
    "\n",
    "# Needs to be worked on\n",
    "\n",
    "\n",
    "\n",
    "\n",
    "\n",
    "\n",
    "from sympy.stats import Die, P\n",
    "from sympy import *\n",
    "\n",
    "\n",
    "top = 4\n",
    "\n",
    "print(4/36)\n",
    "\n"
   ],
   "metadata": {
    "collapsed": false,
    "pycharm": {
     "name": "#%%\n"
    }
   }
  },
  {
   "cell_type": "code",
   "execution_count": 16,
   "outputs": [
    {
     "name": "stdout",
     "output_type": "stream",
     "text": [
      "1\n"
     ]
    }
   ],
   "source": [
    "## Question 23\n",
    "\n",
    "# Needs to be worked on\n",
    "\n",
    "\n",
    "\n",
    "\n",
    "\n",
    "from sympy import *\n",
    "\n",
    "print(1 % 2011)"
   ],
   "metadata": {
    "collapsed": false,
    "pycharm": {
     "name": "#%%\n"
    }
   }
  },
  {
   "cell_type": "code",
   "execution_count": null,
   "outputs": [],
   "source": [
    "## Question 24\n",
    "\n",
    "# Needs to be worked on\n",
    "\n",
    "\n",
    "\n"
   ],
   "metadata": {
    "collapsed": false,
    "pycharm": {
     "name": "#%%\n"
    }
   }
  },
  {
   "cell_type": "code",
   "execution_count": null,
   "outputs": [],
   "source": [
    "## Question 25\n",
    "\n",
    "# Needs to be worked on\n",
    "\n",
    "\n"
   ],
   "metadata": {
    "collapsed": false,
    "pycharm": {
     "name": "#%%\n"
    }
   }
  },
  {
   "cell_type": "code",
   "execution_count": null,
   "outputs": [],
   "source": [
    "## Question 26\n",
    "\n",
    "# Needs to be worked on\n",
    "\n",
    "\n",
    "\n"
   ],
   "metadata": {
    "collapsed": false,
    "pycharm": {
     "name": "#%%\n"
    }
   }
  },
  {
   "cell_type": "code",
   "execution_count": 26,
   "outputs": [
    {
     "name": "stdout",
     "output_type": "stream",
     "text": [
      "[(-0.822875655532295, 1.82287565553230), (1.82287565553230, -0.822875655532295)]\n"
     ]
    }
   ],
   "source": [
    "## Question 27\n",
    "from sympy import *\n",
    "\n",
    "# Used sympy to solve\n",
    "x, y = symbols('x y')\n",
    "\n",
    "eq1 = Eq(x + y, 1)\n",
    "eq2 = Eq(x**2 + y**2, 4)\n",
    "eq3 = Eq(x**3 + y**3, 11/2)\n",
    "\n",
    "print(solve((eq1, eq2, eq3), (x, y)))\n"
   ],
   "metadata": {
    "collapsed": false,
    "pycharm": {
     "name": "#%%\n"
    }
   }
  },
  {
   "cell_type": "code",
   "execution_count": 68,
   "outputs": [
    {
     "name": "stdout",
     "output_type": "stream",
     "text": [
      " Number of Paths  1683\n"
     ]
    }
   ],
   "source": [
    "## Question 28\n",
    "\n",
    "# Created a n-by-m matrix to solve\n",
    "def count_paths(n, m):\n",
    "\n",
    "    if n==0 or m==0:\n",
    "        return 1\n",
    "\n",
    "    return count_paths(n - 1, m) + count_paths(n, m - 1) + count_paths(n - 1, m - 1)\n",
    "\n",
    "n = 5\n",
    "m = 5\n",
    "print(\" Number of Paths \", count_paths(n, m))"
   ],
   "metadata": {
    "collapsed": false,
    "pycharm": {
     "name": "#%%\n"
    }
   }
  },
  {
   "cell_type": "code",
   "execution_count": 330,
   "outputs": [
    {
     "name": "stdout",
     "output_type": "stream",
     "text": [
      "767\n"
     ]
    }
   ],
   "source": [
    "## Question 29\n",
    "\n",
    "# Painstakingly found every square of every prime number to 1000 then added them\n",
    "import math\n",
    "x = 997\n",
    "\n",
    "\n",
    "math = math.sqrt(x - 2)\n",
    "\n",
    "answer = 3 + 11 + 83 + 227 + 443\n",
    "\n",
    "print(answer)\n",
    "\n"
   ],
   "metadata": {
    "collapsed": false,
    "pycharm": {
     "name": "#%%\n"
    }
   }
  },
  {
   "cell_type": "code",
   "execution_count": 66,
   "outputs": [
    {
     "name": "stdout",
     "output_type": "stream",
     "text": [
      "a: 20\n",
      "b: 2\n",
      "c: 10\n",
      "Answer: 54\n"
     ]
    }
   ],
   "source": [
    "## Question 30\n",
    "\n",
    "# To ensure your computer does not explode, this code is commented out, uses a random\n",
    "# number generator to figure it out\n",
    "# Like seriously, I am running a Ryzen 7 5800x\n",
    "# and it was at 90% Utilization when I had four programs of this\n",
    "# running, I would not even try to imagine how bad\n",
    "# it would be for a computer that is not meant for high work\n",
    "# loads\n",
    "\n",
    "#import random\n",
    "#true = True\n",
    "#while true:\n",
    "    #a = random.randrange(0, 504)\n",
    "    #b = random.randrange(0, 504)\n",
    "    #c = random.randrange(0, 504)\n",
    "    #answer = pow(a, 2) + pow(b, 2) + pow(c, 2)\n",
    "    #print(\"a\" + str(a))\n",
    "    #print(\"b\" + str(b))\n",
    "    #print(\"c\" + str(c))\n",
    "    #if answer == 504:\n",
    "        #true = False\n",
    "        #print(\"final a\" + str(a))\n",
    "        #print(\"final b\" + str(b))\n",
    "        #print(\"final c\" + str(c))\n",
    "\n",
    "        #print(\"a b c configuration: \" + str(a + 2 * b + 3 * c))\n",
    "        #print(\"a c b configuration: \" + str(a + 2 * c + 3 * b))\n",
    "        #print(\"b a c configuration: \" + str(b + 2 * a + 3 * c))\n",
    "        #print(\"b c a configuration: \" + str(b + 2 * c + 3 * a))\n",
    "        #print(\"c a b configuration: \" + str(c + 2 * a + 3 * b))\n",
    "        #print(\"c b a configuration: \" + str(c + 2 * b + 3 * b))\n",
    "    #else:\n",
    "        #print(\"fail\")\n",
    "\n",
    "print(\"a: 20\")\n",
    "print(\"b: 2\")\n",
    "print(\"c: 10\")\n",
    "print(\"Answer: 54\")\n",
    "\n",
    "\n",
    "\n"
   ],
   "metadata": {
    "collapsed": false,
    "pycharm": {
     "name": "#%%\n"
    }
   }
  }
 ],
 "metadata": {
  "kernelspec": {
   "display_name": "Python 3",
   "language": "python",
   "name": "python3"
  },
  "language_info": {
   "codemirror_mode": {
    "name": "ipython",
    "version": 2
   },
   "file_extension": ".py",
   "mimetype": "text/x-python",
   "name": "python",
   "nbconvert_exporter": "python",
   "pygments_lexer": "ipython2",
   "version": "2.7.6"
  }
 },
 "nbformat": 4,
 "nbformat_minor": 0
}