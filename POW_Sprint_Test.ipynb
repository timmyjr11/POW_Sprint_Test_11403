{
 "cells": [
  {
   "cell_type": "code",
   "execution_count": 42,
   "metadata": {
    "collapsed": true
   },
   "outputs": [
    {
     "name": "stdout",
     "output_type": "stream",
     "text": [
      "[7]\n"
     ]
    }
   ],
   "source": [
    "## Question 1\n",
    "from sympy import *\n",
    "\n",
    "x = symbols('x')\n",
    "\n",
    "eq = Eq((x*x) + -14*x + 49, 0)\n",
    "\n",
    "print(solve(eq, x))"
   ]
  },
  {
   "cell_type": "code",
   "execution_count": 43,
   "outputs": [
    {
     "name": "stdout",
     "output_type": "stream",
     "text": [
      "300.0\n"
     ]
    }
   ],
   "source": [
    "## Question 2\n",
    "import math\n",
    "\n",
    "print(math.sqrt(90000))"
   ],
   "metadata": {
    "collapsed": false,
    "pycharm": {
     "name": "#%%\n"
    }
   }
  },
  {
   "cell_type": "code",
   "execution_count": 99,
   "outputs": [
    {
     "name": "stdout",
     "output_type": "stream",
     "text": [
      "108\n",
      "55\n"
     ]
    }
   ],
   "source": [
    "## Question 3\n",
    "\n",
    "print(14*7 + 5*2)\n",
    "print(7 * 7 + 2 * 3)"
   ],
   "metadata": {
    "collapsed": false,
    "pycharm": {
     "name": "#%%\n"
    }
   }
  },
  {
   "cell_type": "code",
   "execution_count": 45,
   "outputs": [
    {
     "name": "stdout",
     "output_type": "stream",
     "text": [
      "27\n"
     ]
    }
   ],
   "source": [
    "## Question 4\n",
    "from sympy import *\n",
    "\n",
    "x = 999999999\n",
    "\n",
    "y = symbols('y')\n",
    "\n",
    "eq = Eq(math.log((x**3) + (3*x**2) + (3*x) + 1), y)\n",
    "\n",
    "y = 27\n",
    "\n",
    "print(y)"
   ],
   "metadata": {
    "collapsed": false,
    "pycharm": {
     "name": "#%%\n"
    }
   }
  },
  {
   "cell_type": "code",
   "execution_count": 46,
   "outputs": [
    {
     "name": "stdout",
     "output_type": "stream",
     "text": [
      "30\n"
     ]
    }
   ],
   "source": [
    "## Question 5\n",
    "from sympy import *\n",
    "print(Polygon((0, -5), (3, 0), (0,5), (-3,0)).area)"
   ],
   "metadata": {
    "collapsed": false,
    "pycharm": {
     "name": "#%%\n"
    }
   }
  },
  {
   "cell_type": "code",
   "execution_count": 49,
   "outputs": [
    {
     "name": "stdout",
     "output_type": "stream",
     "text": [
      "[-3, 9]\n",
      "Other\n"
     ]
    }
   ],
   "source": [
    "## Question 6\n",
    "from sympy import *\n",
    "\n",
    "x = symbols('x')\n",
    "\n",
    "eq6 = Eq(2*x**2 - 8*x - 40, x**2 - 2*x -13)\n",
    "\n",
    "print(solve(eq6, x))\n",
    "\n",
    "print(\"Other\")\n",
    "\n"
   ],
   "metadata": {
    "collapsed": false,
    "pycharm": {
     "name": "#%%\n"
    }
   }
  },
  {
   "cell_type": "code",
   "execution_count": 103,
   "outputs": [
    {
     "name": "stdout",
     "output_type": "stream",
     "text": [
      "0.0001809954751131222\n",
      "1/5525\n"
     ]
    }
   ],
   "source": [
    "## Question 7\n",
    "\n",
    "print(4/52 * 3/51 * 2/50)\n",
    "print(\"1/5525\")"
   ],
   "metadata": {
    "collapsed": false,
    "pycharm": {
     "name": "#%%\n"
    }
   }
  },
  {
   "cell_type": "code",
   "execution_count": null,
   "outputs": [],
   "source": [
    "## Question 8\n",
    "\n",
    "cylinder = 2*math.pi*3*8 + math.pi*pow(3,2)\n",
    "\n",
    "answer = cylinder * 0.5\n",
    "\n",
    "print(answer)\n"
   ],
   "metadata": {
    "collapsed": false,
    "pycharm": {
     "name": "#%%\n"
    }
   }
  },
  {
   "cell_type": "code",
   "execution_count": 75,
   "outputs": [
    {
     "name": "stdout",
     "output_type": "stream",
     "text": [
      "858705\n",
      "other\n"
     ]
    }
   ],
   "source": [
    "## Question 9\n",
    "def arithmetic_series(a,d,n) :\n",
    "    sum = 0\n",
    "    i = 0\n",
    "    while i < n :\n",
    "        sum = sum + a\n",
    "        a = a + d\n",
    "        i = i + 1\n",
    "    return sum\n",
    "\n",
    "term = 1310\n",
    "start = 1\n",
    "diff = 1\n",
    "print(arithmetic_series(start, diff, term))\n",
    "print(\"other\")"
   ],
   "metadata": {
    "collapsed": false,
    "pycharm": {
     "name": "#%%\n"
    }
   }
  },
  {
   "cell_type": "code",
   "execution_count": 5,
   "outputs": [
    {
     "name": "stdout",
     "output_type": "stream",
     "text": [
      "1/36\n"
     ]
    }
   ],
   "source": [
    "## Question 10\n",
    "from sympy.stats import P, Die\n",
    "from sympy import Eq\n",
    "x, y, z = Die('x', 6), Die('y', 6), Die('z', 6)\n",
    "\n",
    "print(P(Eq(x + y + z, 5)))"
   ],
   "metadata": {
    "collapsed": false,
    "pycharm": {
     "name": "#%%\n"
    }
   }
  },
  {
   "cell_type": "code",
   "execution_count": 107,
   "outputs": [
    {
     "name": "stdout",
     "output_type": "stream",
     "text": [
      "15.811388300841896\n",
      "Other\n"
     ]
    }
   ],
   "source": [
    "## Question 11\n",
    "##Would not work because of pythagorean  triples\n",
    "\n",
    "l = 9\n",
    "w = 5\n",
    "h = 12\n",
    "\n",
    "print(math.sqrt(pow(l, 2) + pow(w, 2) + pow(h, 2)))\n",
    "print(\"Other\")\n"
   ],
   "metadata": {
    "collapsed": false,
    "pycharm": {
     "name": "#%%\n"
    }
   }
  },
  {
   "cell_type": "code",
   "execution_count": 13,
   "outputs": [
    {
     "name": "stdout",
     "output_type": "stream",
     "text": [
      "0.0001024\n",
      "other\n"
     ]
    }
   ],
   "source": [
    "## Question 12\n",
    "\n",
    "total = pow(10, 7)\n",
    "need = pow(4,5)\n",
    "\n",
    "answer = need / total\n",
    "print(answer)\n",
    "\n",
    "print(\"other\")"
   ],
   "metadata": {
    "collapsed": false,
    "pycharm": {
     "name": "#%%\n"
    }
   }
  },
  {
   "cell_type": "code",
   "execution_count": 23,
   "outputs": [
    {
     "name": "stdout",
     "output_type": "stream",
     "text": [
      "480\n",
      "16\n",
      "80\n"
     ]
    }
   ],
   "source": [
    "## Question 13\n",
    "from sympy import *\n",
    "\n",
    "print(lcm(96, 40))\n",
    "\n",
    "print(gcd(96, 80))\n",
    "\n",
    "print(80)"
   ],
   "metadata": {
    "collapsed": false,
    "pycharm": {
     "name": "#%%\n"
    }
   }
  },
  {
   "cell_type": "code",
   "execution_count": 44,
   "outputs": [
    {
     "name": "stdout",
     "output_type": "stream",
     "text": [
      "3.5\n",
      "3.5\n"
     ]
    }
   ],
   "source": [
    "## Question 14\n",
    "import math\n",
    "\n",
    "a = math.log(8,9)\n",
    "b = math.log(39, 8)\n",
    "c = math.log(2187, 39)\n",
    "print(a*b*c)\n",
    "print(7/2)"
   ],
   "metadata": {
    "collapsed": false,
    "pycharm": {
     "name": "#%%\n"
    }
   }
  },
  {
   "cell_type": "code",
   "execution_count": 67,
   "outputs": [
    {
     "name": "stdout",
     "output_type": "stream",
     "text": [
      "27.712812921102035\n",
      "19.31370849898476\n",
      "3.313708498984761\n",
      "30.627416997969522\n",
      "38.62741699796952\n",
      "Other\n"
     ]
    }
   ],
   "source": [
    "# Question 15\n",
    "import math\n",
    "\n",
    "area_of_triangle = (math.sqrt(3)/4) * pow(8,2)\n",
    "possible_area1 = (8*math.sqrt(2)) + 8\n",
    "possible_area2 = (8*math.sqrt(2)) - 8\n",
    "possible_area3 = (16*math.sqrt(2)) + 8\n",
    "possible_area4 = (16*math.sqrt(2)) + 16\n",
    "\n",
    "print(area_of_triangle)\n",
    "print(possible_area1)\n",
    "print(possible_area2)\n",
    "print(possible_area3)\n",
    "print(possible_area4)\n",
    "print(\"Other\")"
   ],
   "metadata": {
    "collapsed": false,
    "pycharm": {
     "name": "#%%\n"
    }
   }
  },
  {
   "cell_type": "code",
   "execution_count": 72,
   "outputs": [
    {
     "name": "stdout",
     "output_type": "stream",
     "text": [
      "66.5\n",
      "86\n",
      "19.5\n",
      "other\n"
     ]
    }
   ],
   "source": [
    "## Question 16\n",
    "import math\n",
    "\n",
    "smallest_angle = (180 - 47) / 2\n",
    "large_angle = 180 - (47 * 2)\n",
    "\n",
    "difference = large_angle - smallest_angle\n",
    "\n",
    "print (smallest_angle)\n",
    "print(large_angle)\n",
    "print(difference)\n",
    "print(\"other\")"
   ],
   "metadata": {
    "collapsed": false,
    "pycharm": {
     "name": "#%%\n"
    }
   }
  },
  {
   "cell_type": "code",
   "execution_count": 77,
   "outputs": [
    {
     "name": "stdout",
     "output_type": "stream",
     "text": [
      "0.2857142857142857\n"
     ]
    }
   ],
   "source": [
    "# Question 17\n",
    "\n",
    "chance =  (1/1) * (2/7)\n",
    "\n",
    "print (chance)"
   ],
   "metadata": {
    "collapsed": false,
    "pycharm": {
     "name": "#%%\n"
    }
   }
  },
  {
   "cell_type": "code",
   "execution_count": 82,
   "outputs": [
    {
     "data": {
      "text/plain": "[-1, 2]"
     },
     "execution_count": 82,
     "metadata": {},
     "output_type": "execute_result"
    }
   ],
   "source": [
    "## Question 18\n",
    "\n",
    "x = symbols('x')\n",
    "\n",
    "eq = Eq(4 * (x - 1) ** (x+1), 4)\n",
    "\n",
    "solve(eq, x)\n"
   ],
   "metadata": {
    "collapsed": false,
    "pycharm": {
     "name": "#%%\n"
    }
   }
  },
  {
   "cell_type": "code",
   "execution_count": 84,
   "outputs": [
    {
     "name": "stdout",
     "output_type": "stream",
     "text": [
      "[-6, 6]\n",
      "12\n"
     ]
    }
   ],
   "source": [
    "## Question 19\n",
    "\n",
    "x = symbols('x')\n",
    "\n",
    "eq = Eq(2 * x**2 * y - 72 * y, 0)\n",
    "\n",
    "print(solve(eq, x))\n",
    "\n",
    "print(6 - -6)"
   ],
   "metadata": {
    "collapsed": false,
    "pycharm": {
     "name": "#%%\n"
    }
   }
  }
 ],
 "metadata": {
  "kernelspec": {
   "display_name": "Python 3",
   "language": "python",
   "name": "python3"
  },
  "language_info": {
   "codemirror_mode": {
    "name": "ipython",
    "version": 2
   },
   "file_extension": ".py",
   "mimetype": "text/x-python",
   "name": "python",
   "nbconvert_exporter": "python",
   "pygments_lexer": "ipython2",
   "version": "2.7.6"
  }
 },
 "nbformat": 4,
 "nbformat_minor": 0
}